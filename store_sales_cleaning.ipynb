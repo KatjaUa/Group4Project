{
 "cells": [
  {
   "cell_type": "markdown",
   "id": "4ee6c035",
   "metadata": {},
   "source": [
    "# 🧼 Data Cleaning: Store Sales Dataset"
   ]
  },
  {
   "cell_type": "code",
   "execution_count": 2,
   "id": "0cba5b1c",
   "metadata": {},
   "outputs": [
    {
     "data": {
      "application/vnd.microsoft.datawrangler.viewer.v0+json": {
       "columns": [
        {
         "name": "index",
         "rawType": "int64",
         "type": "integer"
        },
        {
         "name": "ID",
         "rawType": "int64",
         "type": "integer"
        },
        {
         "name": "Product Name",
         "rawType": "object",
         "type": "unknown"
        },
        {
         "name": "Category",
         "rawType": "object",
         "type": "unknown"
        },
        {
         "name": "Quantity",
         "rawType": "float64",
         "type": "float"
        },
        {
         "name": "Unit Price",
         "rawType": "float64",
         "type": "float"
        },
        {
         "name": "Sale Date",
         "rawType": "object",
         "type": "unknown"
        },
        {
         "name": "Store",
         "rawType": "object",
         "type": "string"
        }
       ],
       "conversionMethod": "pd.DataFrame",
       "ref": "6a33dcdd-0b00-4727-9b1b-ad12af7db8bb",
       "rows": [
        [
         "0",
         "1",
         "Milk",
         "Household",
         null,
         null,
         "2023-07-13",
         "Store B"
        ],
        [
         "1",
         "2",
         "Eggs",
         null,
         "10.0",
         "2.0",
         "2023-07-10",
         "Store A"
        ],
        [
         "2",
         "3",
         null,
         "Dairy",
         null,
         "-2.5",
         "01.07.2023",
         "Store A"
        ],
        [
         "3",
         "4",
         "Apples",
         "Produce",
         "10.0",
         null,
         "02.07.2023",
         "Store A"
        ],
        [
         "4",
         "5",
         "Milk",
         "Dairy",
         "3.0",
         "1.5",
         null,
         "Store C"
        ]
       ],
       "shape": {
        "columns": 7,
        "rows": 5
       }
      },
      "text/html": [
       "<div>\n",
       "<style scoped>\n",
       "    .dataframe tbody tr th:only-of-type {\n",
       "        vertical-align: middle;\n",
       "    }\n",
       "\n",
       "    .dataframe tbody tr th {\n",
       "        vertical-align: top;\n",
       "    }\n",
       "\n",
       "    .dataframe thead th {\n",
       "        text-align: right;\n",
       "    }\n",
       "</style>\n",
       "<table border=\"1\" class=\"dataframe\">\n",
       "  <thead>\n",
       "    <tr style=\"text-align: right;\">\n",
       "      <th></th>\n",
       "      <th>ID</th>\n",
       "      <th>Product Name</th>\n",
       "      <th>Category</th>\n",
       "      <th>Quantity</th>\n",
       "      <th>Unit Price</th>\n",
       "      <th>Sale Date</th>\n",
       "      <th>Store</th>\n",
       "    </tr>\n",
       "  </thead>\n",
       "  <tbody>\n",
       "    <tr>\n",
       "      <th>0</th>\n",
       "      <td>1</td>\n",
       "      <td>Milk</td>\n",
       "      <td>Household</td>\n",
       "      <td>NaN</td>\n",
       "      <td>NaN</td>\n",
       "      <td>2023-07-13</td>\n",
       "      <td>Store B</td>\n",
       "    </tr>\n",
       "    <tr>\n",
       "      <th>1</th>\n",
       "      <td>2</td>\n",
       "      <td>Eggs</td>\n",
       "      <td>NaN</td>\n",
       "      <td>10.0</td>\n",
       "      <td>2.0</td>\n",
       "      <td>2023-07-10</td>\n",
       "      <td>Store A</td>\n",
       "    </tr>\n",
       "    <tr>\n",
       "      <th>2</th>\n",
       "      <td>3</td>\n",
       "      <td>NaN</td>\n",
       "      <td>Dairy</td>\n",
       "      <td>NaN</td>\n",
       "      <td>-2.5</td>\n",
       "      <td>01.07.2023</td>\n",
       "      <td>Store A</td>\n",
       "    </tr>\n",
       "    <tr>\n",
       "      <th>3</th>\n",
       "      <td>4</td>\n",
       "      <td>Apples</td>\n",
       "      <td>Produce</td>\n",
       "      <td>10.0</td>\n",
       "      <td>NaN</td>\n",
       "      <td>02.07.2023</td>\n",
       "      <td>Store A</td>\n",
       "    </tr>\n",
       "    <tr>\n",
       "      <th>4</th>\n",
       "      <td>5</td>\n",
       "      <td>Milk</td>\n",
       "      <td>Dairy</td>\n",
       "      <td>3.0</td>\n",
       "      <td>1.5</td>\n",
       "      <td>NaN</td>\n",
       "      <td>Store C</td>\n",
       "    </tr>\n",
       "  </tbody>\n",
       "</table>\n",
       "</div>"
      ],
      "text/plain": [
       "   ID Product Name   Category  Quantity  Unit Price   Sale Date    Store\n",
       "0   1         Milk  Household       NaN         NaN  2023-07-13  Store B\n",
       "1   2         Eggs        NaN      10.0         2.0  2023-07-10  Store A\n",
       "2   3          NaN      Dairy       NaN        -2.5  01.07.2023  Store A\n",
       "3   4       Apples    Produce      10.0         NaN  02.07.2023  Store A\n",
       "4   5         Milk      Dairy       3.0         1.5         NaN  Store C"
      ]
     },
     "execution_count": 2,
     "metadata": {},
     "output_type": "execute_result"
    }
   ],
   "source": [
    "import pandas as pd\n",
    "\n",
    "# Load the dataset\n",
    "df = pd.read_csv('store_sales_dirty_data.csv')\n",
    "\n",
    "# Preview the first few rows\n",
    "df.head()"
   ]
  },
  {
   "cell_type": "markdown",
   "id": "e00844d9",
   "metadata": {},
   "source": [
    "## Step 2: Explore the Structure and Data Types"
   ]
  },
  {
   "cell_type": "code",
   "execution_count": 2,
   "id": "b93b4d79",
   "metadata": {},
   "outputs": [
    {
     "name": "stdout",
     "output_type": "stream",
     "text": [
      "<class 'pandas.core.frame.DataFrame'>\n",
      "RangeIndex: 30 entries, 0 to 29\n",
      "Data columns (total 7 columns):\n",
      " #   Column        Non-Null Count  Dtype  \n",
      "---  ------        --------------  -----  \n",
      " 0   ID            30 non-null     int64  \n",
      " 1   Product Name  27 non-null     object \n",
      " 2   Category      24 non-null     object \n",
      " 3   Quantity      21 non-null     float64\n",
      " 4   Unit Price    20 non-null     float64\n",
      " 5   Sale Date     22 non-null     object \n",
      " 6   Store         30 non-null     object \n",
      "dtypes: float64(2), int64(1), object(4)\n",
      "memory usage: 1.8+ KB\n"
     ]
    },
    {
     "data": {
      "text/html": [
       "<div>\n",
       "<style scoped>\n",
       "    .dataframe tbody tr th:only-of-type {\n",
       "        vertical-align: middle;\n",
       "    }\n",
       "\n",
       "    .dataframe tbody tr th {\n",
       "        vertical-align: top;\n",
       "    }\n",
       "\n",
       "    .dataframe thead th {\n",
       "        text-align: right;\n",
       "    }\n",
       "</style>\n",
       "<table border=\"1\" class=\"dataframe\">\n",
       "  <thead>\n",
       "    <tr style=\"text-align: right;\">\n",
       "      <th></th>\n",
       "      <th>ID</th>\n",
       "      <th>Product Name</th>\n",
       "      <th>Category</th>\n",
       "      <th>Quantity</th>\n",
       "      <th>Unit Price</th>\n",
       "      <th>Sale Date</th>\n",
       "      <th>Store</th>\n",
       "    </tr>\n",
       "  </thead>\n",
       "  <tbody>\n",
       "    <tr>\n",
       "      <th>count</th>\n",
       "      <td>30.000000</td>\n",
       "      <td>27</td>\n",
       "      <td>24</td>\n",
       "      <td>21.000000</td>\n",
       "      <td>20.000000</td>\n",
       "      <td>22</td>\n",
       "      <td>30</td>\n",
       "    </tr>\n",
       "    <tr>\n",
       "      <th>unique</th>\n",
       "      <td>NaN</td>\n",
       "      <td>7</td>\n",
       "      <td>5</td>\n",
       "      <td>NaN</td>\n",
       "      <td>NaN</td>\n",
       "      <td>18</td>\n",
       "      <td>3</td>\n",
       "    </tr>\n",
       "    <tr>\n",
       "      <th>top</th>\n",
       "      <td>NaN</td>\n",
       "      <td>Eggs</td>\n",
       "      <td>Dairy</td>\n",
       "      <td>NaN</td>\n",
       "      <td>NaN</td>\n",
       "      <td>2023/07/15</td>\n",
       "      <td>Store A</td>\n",
       "    </tr>\n",
       "    <tr>\n",
       "      <th>freq</th>\n",
       "      <td>NaN</td>\n",
       "      <td>6</td>\n",
       "      <td>8</td>\n",
       "      <td>NaN</td>\n",
       "      <td>NaN</td>\n",
       "      <td>4</td>\n",
       "      <td>15</td>\n",
       "    </tr>\n",
       "    <tr>\n",
       "      <th>mean</th>\n",
       "      <td>15.500000</td>\n",
       "      <td>NaN</td>\n",
       "      <td>NaN</td>\n",
       "      <td>6.142857</td>\n",
       "      <td>1.725000</td>\n",
       "      <td>NaN</td>\n",
       "      <td>NaN</td>\n",
       "    </tr>\n",
       "    <tr>\n",
       "      <th>std</th>\n",
       "      <td>8.803408</td>\n",
       "      <td>NaN</td>\n",
       "      <td>NaN</td>\n",
       "      <td>4.003570</td>\n",
       "      <td>1.875921</td>\n",
       "      <td>NaN</td>\n",
       "      <td>NaN</td>\n",
       "    </tr>\n",
       "    <tr>\n",
       "      <th>min</th>\n",
       "      <td>1.000000</td>\n",
       "      <td>NaN</td>\n",
       "      <td>NaN</td>\n",
       "      <td>0.000000</td>\n",
       "      <td>-2.500000</td>\n",
       "      <td>NaN</td>\n",
       "      <td>NaN</td>\n",
       "    </tr>\n",
       "    <tr>\n",
       "      <th>25%</th>\n",
       "      <td>8.250000</td>\n",
       "      <td>NaN</td>\n",
       "      <td>NaN</td>\n",
       "      <td>3.000000</td>\n",
       "      <td>1.500000</td>\n",
       "      <td>NaN</td>\n",
       "      <td>NaN</td>\n",
       "    </tr>\n",
       "    <tr>\n",
       "      <th>50%</th>\n",
       "      <td>15.500000</td>\n",
       "      <td>NaN</td>\n",
       "      <td>NaN</td>\n",
       "      <td>5.000000</td>\n",
       "      <td>1.750000</td>\n",
       "      <td>NaN</td>\n",
       "      <td>NaN</td>\n",
       "    </tr>\n",
       "    <tr>\n",
       "      <th>75%</th>\n",
       "      <td>22.750000</td>\n",
       "      <td>NaN</td>\n",
       "      <td>NaN</td>\n",
       "      <td>10.000000</td>\n",
       "      <td>3.750000</td>\n",
       "      <td>NaN</td>\n",
       "      <td>NaN</td>\n",
       "    </tr>\n",
       "    <tr>\n",
       "      <th>max</th>\n",
       "      <td>30.000000</td>\n",
       "      <td>NaN</td>\n",
       "      <td>NaN</td>\n",
       "      <td>10.000000</td>\n",
       "      <td>3.750000</td>\n",
       "      <td>NaN</td>\n",
       "      <td>NaN</td>\n",
       "    </tr>\n",
       "  </tbody>\n",
       "</table>\n",
       "</div>"
      ],
      "text/plain": [
       "               ID Product Name Category   Quantity  Unit Price   Sale Date  \\\n",
       "count   30.000000           27       24  21.000000   20.000000          22   \n",
       "unique        NaN            7        5        NaN         NaN          18   \n",
       "top           NaN         Eggs    Dairy        NaN         NaN  2023/07/15   \n",
       "freq          NaN            6        8        NaN         NaN           4   \n",
       "mean    15.500000          NaN      NaN   6.142857    1.725000         NaN   \n",
       "std      8.803408          NaN      NaN   4.003570    1.875921         NaN   \n",
       "min      1.000000          NaN      NaN   0.000000   -2.500000         NaN   \n",
       "25%      8.250000          NaN      NaN   3.000000    1.500000         NaN   \n",
       "50%     15.500000          NaN      NaN   5.000000    1.750000         NaN   \n",
       "75%     22.750000          NaN      NaN  10.000000    3.750000         NaN   \n",
       "max     30.000000          NaN      NaN  10.000000    3.750000         NaN   \n",
       "\n",
       "          Store  \n",
       "count        30  \n",
       "unique        3  \n",
       "top     Store A  \n",
       "freq         15  \n",
       "mean        NaN  \n",
       "std         NaN  \n",
       "min         NaN  \n",
       "25%         NaN  \n",
       "50%         NaN  \n",
       "75%         NaN  \n",
       "max         NaN  "
      ]
     },
     "execution_count": 2,
     "metadata": {},
     "output_type": "execute_result"
    }
   ],
   "source": [
    "df.info()\n",
    "df.describe(include='all')"
   ]
  },
  {
   "cell_type": "markdown",
   "id": "d8165106",
   "metadata": {},
   "source": [
    "## Step 3: Handle Missing Values"
   ]
  },
  {
   "cell_type": "code",
   "execution_count": 1,
   "id": "3df8ba77",
   "metadata": {},
   "outputs": [
    {
     "ename": "NameError",
     "evalue": "name 'df' is not defined",
     "output_type": "error",
     "traceback": [
      "\u001b[0;31m---------------------------------------------------------------------------\u001b[0m",
      "\u001b[0;31mNameError\u001b[0m                                 Traceback (most recent call last)",
      "Cell \u001b[0;32mIn[1], line 1\u001b[0m\n\u001b[0;32m----> 1\u001b[0m \u001b[43mdf\u001b[49m\u001b[38;5;241m.\u001b[39mreplace([\u001b[38;5;124m'\u001b[39m\u001b[38;5;124m'\u001b[39m, \u001b[38;5;124m'\u001b[39m\u001b[38;5;124mNaN\u001b[39m\u001b[38;5;124m'\u001b[39m], pd\u001b[38;5;241m.\u001b[39mNA, inplace\u001b[38;5;241m=\u001b[39m\u001b[38;5;28;01mTrue\u001b[39;00m)\n\u001b[1;32m      3\u001b[0m \u001b[38;5;66;03m# Drop rows with missing product name or store\u001b[39;00m\n\u001b[1;32m      4\u001b[0m df\u001b[38;5;241m.\u001b[39mdropna(subset\u001b[38;5;241m=\u001b[39m[\u001b[38;5;124m'\u001b[39m\u001b[38;5;124mProduct Name\u001b[39m\u001b[38;5;124m'\u001b[39m, \u001b[38;5;124m'\u001b[39m\u001b[38;5;124mStore\u001b[39m\u001b[38;5;124m'\u001b[39m], inplace\u001b[38;5;241m=\u001b[39m\u001b[38;5;28;01mTrue\u001b[39;00m)\n",
      "\u001b[0;31mNameError\u001b[0m: name 'df' is not defined"
     ]
    }
   ],
   "source": [
    "df.replace(['', 'NaN'], pd.NA, inplace=True)\n",
    "\n",
    "# Drop rows with missing product name or store\n",
    "df.dropna(subset=['Product Name', 'Store'], inplace=True)\n",
    "\n",
    "# Convert Quantity and Unit Price to numeric\n",
    "df['Quantity'] = pd.to_numeric(df['Quantity'], errors='coerce')\n",
    "df['Unit Price'] = pd.to_numeric(df['Unit Price'], errors='coerce')\n",
    "\n",
    "# Fill missing values with median\n",
    "df['Quantity'] = df['Quantity'].fillna(df['Quantity'].median())\n",
    "df['Unit Price'] = df['Unit Price'].fillna(df['Unit Price'].median())\n"
   ]
  },
  {
   "cell_type": "markdown",
   "id": "51d450f7",
   "metadata": {},
   "source": [
    "## Step 4: Clean the 'Sale Date' Column"
   ]
  },
  {
   "cell_type": "code",
   "execution_count": 6,
   "id": "e80bb476",
   "metadata": {},
   "outputs": [],
   "source": [
    "df['Sale Date'] = pd.to_datetime(df['Sale Date'], errors='coerce', dayfirst=True)\n",
    "\n",
    "# Drop rows with invalid dates\n",
    "df.dropna(subset=['Sale Date'], inplace=True)"
   ]
  },
  {
   "cell_type": "markdown",
   "id": "4c42ab50",
   "metadata": {},
   "source": [
    "## Step 5: Remove Invalid or Suspicious Values"
   ]
  },
  {
   "cell_type": "code",
   "execution_count": 1,
   "id": "40c71239",
   "metadata": {},
   "outputs": [
    {
     "ename": "NameError",
     "evalue": "name 'df' is not defined",
     "output_type": "error",
     "traceback": [
      "\u001b[0;31m---------------------------------------------------------------------------\u001b[0m",
      "\u001b[0;31mNameError\u001b[0m                                 Traceback (most recent call last)",
      "Cell \u001b[0;32mIn[1], line 1\u001b[0m\n\u001b[0;32m----> 1\u001b[0m df \u001b[38;5;241m=\u001b[39m \u001b[43mdf\u001b[49m[(df[\u001b[38;5;124m'\u001b[39m\u001b[38;5;124mUnit Price\u001b[39m\u001b[38;5;124m'\u001b[39m] \u001b[38;5;241m>\u001b[39m \u001b[38;5;241m0\u001b[39m) \u001b[38;5;241m&\u001b[39m (df[\u001b[38;5;124m'\u001b[39m\u001b[38;5;124mQuantity\u001b[39m\u001b[38;5;124m'\u001b[39m] \u001b[38;5;241m>\u001b[39m \u001b[38;5;241m0\u001b[39m)]\n",
      "\u001b[0;31mNameError\u001b[0m: name 'df' is not defined"
     ]
    }
   ],
   "source": [
    "df = df[(df['Unit Price'] > 0) & (df['Quantity'] > 0)]"
   ]
  },
  {
   "cell_type": "markdown",
   "id": "61306f2e",
   "metadata": {},
   "source": [
    "## Step 6: Remove Duplicates"
   ]
  },
  {
   "cell_type": "code",
   "execution_count": 8,
   "id": "e9002fef",
   "metadata": {},
   "outputs": [],
   "source": [
    "df.drop_duplicates(inplace=True)"
   ]
  },
  {
   "cell_type": "markdown",
   "id": "4091b30e",
   "metadata": {},
   "source": [
    "## Step 7: Final Check and Save"
   ]
  },
  {
   "cell_type": "code",
   "execution_count": 9,
   "id": "1b0142e8",
   "metadata": {},
   "outputs": [
    {
     "name": "stdout",
     "output_type": "stream",
     "text": [
      "<class 'pandas.core.frame.DataFrame'>\n",
      "Index: 5 entries, 0 to 28\n",
      "Data columns (total 7 columns):\n",
      " #   Column        Non-Null Count  Dtype         \n",
      "---  ------        --------------  -----         \n",
      " 0   ID            5 non-null      int64         \n",
      " 1   Product Name  5 non-null      object        \n",
      " 2   Category      3 non-null      object        \n",
      " 3   Quantity      5 non-null      float64       \n",
      " 4   Unit Price    5 non-null      float64       \n",
      " 5   Sale Date     5 non-null      datetime64[ns]\n",
      " 6   Store         5 non-null      object        \n",
      "dtypes: datetime64[ns](1), float64(2), int64(1), object(3)\n",
      "memory usage: 320.0+ bytes\n"
     ]
    }
   ],
   "source": [
    "df.info()\n",
    "df.head()\n",
    "\n",
    "# Save cleaned file\n",
    "df.to_csv('store_sales_cleaned.csv', index=False)"
   ]
  },
  {
   "cell_type": "markdown",
   "id": "c941d99f",
   "metadata": {},
   "source": [
    "## Optional: Add Total Sale Column"
   ]
  },
  {
   "cell_type": "code",
   "execution_count": 10,
   "id": "ff08d6e1",
   "metadata": {},
   "outputs": [
    {
     "data": {
      "text/html": [
       "<div>\n",
       "<style scoped>\n",
       "    .dataframe tbody tr th:only-of-type {\n",
       "        vertical-align: middle;\n",
       "    }\n",
       "\n",
       "    .dataframe tbody tr th {\n",
       "        vertical-align: top;\n",
       "    }\n",
       "\n",
       "    .dataframe thead th {\n",
       "        text-align: right;\n",
       "    }\n",
       "</style>\n",
       "<table border=\"1\" class=\"dataframe\">\n",
       "  <thead>\n",
       "    <tr style=\"text-align: right;\">\n",
       "      <th></th>\n",
       "      <th>ID</th>\n",
       "      <th>Product Name</th>\n",
       "      <th>Category</th>\n",
       "      <th>Quantity</th>\n",
       "      <th>Unit Price</th>\n",
       "      <th>Sale Date</th>\n",
       "      <th>Store</th>\n",
       "      <th>Total Sale</th>\n",
       "    </tr>\n",
       "  </thead>\n",
       "  <tbody>\n",
       "    <tr>\n",
       "      <th>0</th>\n",
       "      <td>1</td>\n",
       "      <td>Milk</td>\n",
       "      <td>Household</td>\n",
       "      <td>7.5</td>\n",
       "      <td>2.00</td>\n",
       "      <td>2023-07-13</td>\n",
       "      <td>Store B</td>\n",
       "      <td>15.00</td>\n",
       "    </tr>\n",
       "    <tr>\n",
       "      <th>1</th>\n",
       "      <td>2</td>\n",
       "      <td>Eggs</td>\n",
       "      <td>NaN</td>\n",
       "      <td>10.0</td>\n",
       "      <td>2.00</td>\n",
       "      <td>2023-07-10</td>\n",
       "      <td>Store A</td>\n",
       "      <td>20.00</td>\n",
       "    </tr>\n",
       "    <tr>\n",
       "      <th>7</th>\n",
       "      <td>8</td>\n",
       "      <td>Cheese</td>\n",
       "      <td>Household</td>\n",
       "      <td>7.5</td>\n",
       "      <td>2.00</td>\n",
       "      <td>2023-07-23</td>\n",
       "      <td>Store C</td>\n",
       "      <td>15.00</td>\n",
       "    </tr>\n",
       "    <tr>\n",
       "      <th>10</th>\n",
       "      <td>11</td>\n",
       "      <td>Bread</td>\n",
       "      <td>Household</td>\n",
       "      <td>1.0</td>\n",
       "      <td>3.75</td>\n",
       "      <td>2023-07-08</td>\n",
       "      <td>Store A</td>\n",
       "      <td>3.75</td>\n",
       "    </tr>\n",
       "    <tr>\n",
       "      <th>28</th>\n",
       "      <td>29</td>\n",
       "      <td>Cheese</td>\n",
       "      <td>NaN</td>\n",
       "      <td>3.0</td>\n",
       "      <td>2.00</td>\n",
       "      <td>2023-07-15</td>\n",
       "      <td>Store B</td>\n",
       "      <td>6.00</td>\n",
       "    </tr>\n",
       "  </tbody>\n",
       "</table>\n",
       "</div>"
      ],
      "text/plain": [
       "    ID Product Name   Category  Quantity  Unit Price  Sale Date    Store  \\\n",
       "0    1         Milk  Household       7.5        2.00 2023-07-13  Store B   \n",
       "1    2         Eggs        NaN      10.0        2.00 2023-07-10  Store A   \n",
       "7    8       Cheese  Household       7.5        2.00 2023-07-23  Store C   \n",
       "10  11        Bread  Household       1.0        3.75 2023-07-08  Store A   \n",
       "28  29       Cheese        NaN       3.0        2.00 2023-07-15  Store B   \n",
       "\n",
       "    Total Sale  \n",
       "0        15.00  \n",
       "1        20.00  \n",
       "7        15.00  \n",
       "10        3.75  \n",
       "28        6.00  "
      ]
     },
     "execution_count": 10,
     "metadata": {},
     "output_type": "execute_result"
    }
   ],
   "source": [
    "df['Total Sale'] = df['Quantity'] * df['Unit Price']\n",
    "df.head()"
   ]
  }
 ],
 "metadata": {
  "kernelspec": {
   "display_name": "Python 3",
   "language": "python",
   "name": "python3"
  },
  "language_info": {
   "codemirror_mode": {
    "name": "ipython",
    "version": 3
   },
   "file_extension": ".py",
   "mimetype": "text/x-python",
   "name": "python",
   "nbconvert_exporter": "python",
   "pygments_lexer": "ipython3",
   "version": "3.9.13"
  }
 },
 "nbformat": 4,
 "nbformat_minor": 5
}
