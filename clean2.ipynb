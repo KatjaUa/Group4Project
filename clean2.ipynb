{
 "cells": [
  {
   "cell_type": "code",
   "execution_count": null,
   "metadata": {},
   "outputs": [],
   "source": [
    "import pandas as pd\n",
    "\n",
    "# Load the dataset\n",
    "file_path = \"Health_Sleep_Statistics.csv\"\n",
    "df = pd.read_csv(file_path)\n",
    "print(df)\n"
   ]
  },
  {
   "cell_type": "code",
   "execution_count": null,
   "metadata": {},
   "outputs": [],
   "source": [
    "def basic_statistics():\n",
    "    print(\"Basic Statistics:\\n\", df.describe())\n",
    "    print(\"\\nMissing Values:\\n\", df.isnull().sum())\n",
    "\n",
    "basic_statistics()"
   ]
  },
  {
   "cell_type": "code",
   "execution_count": null,
   "metadata": {},
   "outputs": [],
   "source": [
    "def sort_sleep_quality():\n",
    "    df_sorted = df.sort_values(by=\"Sleep Quality\", ascending=False)\n",
    "    print(\"\\nTop Sleep Quality Records:\\n\", df_sorted.head())\n",
    "    \n",
    "sort_sleep_quality()"
   ]
  },
  {
   "cell_type": "code",
   "execution_count": null,
   "metadata": {},
   "outputs": [],
   "source": [
    "def filter_poor_sleepers():\n",
    "    poor_sleepers = df[df[\"Sleep Quality\"] < 6]\n",
    "    print(\"\\nUsers with Poor Sleep Quality:\\n\", poor_sleepers)\n",
    "\n",
    "filter_poor_sleepers()"
   ]
  },
  {
   "cell_type": "code",
   "execution_count": null,
   "metadata": {},
   "outputs": [],
   "source": [
    "def find_sleep_disorder_users():\n",
    "    sleep_disorder_users = df[(df[\"Sleep Disorders\"] == \"yes\") & (df[\"Medication Usage\"] == \"yes\")]\n",
    "    print(\"\\nUsers with Sleep Disorders and Medication Usage:\\n\", sleep_disorder_users)\n",
    "\n",
    "find_sleep_disorder_users()"
   ]
  },
  {
   "cell_type": "code",
   "execution_count": null,
   "metadata": {},
   "outputs": [],
   "source": [
    "def average_sleep_quality_by_age():\n",
    "    df[\"Age Group\"] = pd.cut(df[\"Age\"], bins=[0, 18, 30, 50, 100], labels=[\"Teen\", \"Young Adult\", \"Adult\", \"Senior\"])\n",
    "    avg_sleep_age = df.groupby(\"Age Group\")[\"Sleep Quality\"].mean()\n",
    "    print(\"\\nAverage Sleep Quality by Age Group:\\n\", avg_sleep_age)\n",
    "\n",
    "average_sleep_quality_by_age()"
   ]
  },
  {
   "cell_type": "code",
   "execution_count": null,
   "metadata": {},
   "outputs": [],
   "source": [
    "def average_sleep_quality_by_diet():\n",
    "    sleep_by_diet = df.groupby(\"Dietary Habits\")[\"Sleep Quality\"].mean()\n",
    "    print(\"\\nAverage Sleep Quality by Dietary Habit:\\n\", sleep_by_diet)\n",
    "\n",
    "average_sleep_quality_by_diet()"
   ]
  },
  {
   "cell_type": "code",
   "execution_count": null,
   "metadata": {},
   "outputs": [],
   "source": [
    "def average_sleep_quality_by_activity():\n",
    "    sleep_by_activity = df.groupby(\"Physical Activity Level\")[\"Sleep Quality\"].mean()\n",
    "    print(\"\\nAverage Sleep Quality by Activity Level:\\n\", sleep_by_activity)\n",
    "\n",
    "average_sleep_quality_by_activity()"
   ]
  },
  {
   "cell_type": "code",
   "execution_count": null,
   "metadata": {},
   "outputs": [],
   "source": [
    "def sort_by_age():\n",
    "    df_sorted_age = df.sort_values(by=\"Age\", ascending=True)\n",
    "    print(\"\\nSorted by Age:\\n\", df_sorted_age.head())\n",
    "\n",
    "def average_sleep_quality_by_age():\n",
    "    df[\"Age Group\"] = pd.cut(df[\"Age\"], bins=[0, 18, 30, 50, 100], labels=[\"Teen\", \"Young Adult\", \"Adult\", \"Senior\"])\n",
    "    avg_sleep_age = df.groupby(\"Age Group\")[\"Sleep Quality\"].mean()\n",
    "    print(\"\\nAverage Sleep Quality by Age Group:\\n\", avg_sleep_age)\n",
    "\n",
    "sort_by_age()\n",
    "average_sleep_quality_by_age()"
   ]
  }
 ],
 "metadata": {
  "kernelspec": {
   "display_name": "Python 3",
   "language": "python",
   "name": "python3"
  },
  "language_info": {
   "codemirror_mode": {
    "name": "ipython",
    "version": 3
   },
   "file_extension": ".py",
   "mimetype": "text/x-python",
   "name": "python",
   "nbconvert_exporter": "python",
   "pygments_lexer": "ipython3",
   "version": "3.9.13"
  }
 },
 "nbformat": 4,
 "nbformat_minor": 2
}
