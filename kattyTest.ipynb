{
 "cells": [
  {
   "cell_type": "code",
   "execution_count": null,
   "id": "977730b0",
   "metadata": {},
   "outputs": [],
   "source": [
    "\n"
   ]
  },
  {
   "cell_type": "code",
   "execution_count": 5,
   "id": "6e3c7a96",
   "metadata": {},
   "outputs": [
    {
     "data": {
      "application/vnd.microsoft.datawrangler.viewer.v0+json": {
       "columns": [
        {
         "name": "index",
         "rawType": "int64",
         "type": "integer"
        },
        {
         "name": "ID",
         "rawType": "int64",
         "type": "integer"
        },
        {
         "name": "Product Name",
         "rawType": "object",
         "type": "unknown"
        },
        {
         "name": "Category",
         "rawType": "object",
         "type": "unknown"
        },
        {
         "name": "Quantity",
         "rawType": "float64",
         "type": "float"
        },
        {
         "name": "Unit Price",
         "rawType": "float64",
         "type": "float"
        },
        {
         "name": "Sale Date",
         "rawType": "object",
         "type": "unknown"
        },
        {
         "name": "Store",
         "rawType": "object",
         "type": "string"
        }
       ],
       "conversionMethod": "pd.DataFrame",
       "ref": "7c1fca93-accf-4271-b0f0-0ffd23e93273",
       "rows": [
        [
         "0",
         "1",
         "Milk",
         "Household",
         null,
         null,
         "2023-07-13",
         "Store B"
        ],
        [
         "1",
         "2",
         "Eggs",
         null,
         "10.0",
         "2.0",
         "2023-07-10",
         "Store A"
        ],
        [
         "2",
         "3",
         null,
         "Dairy",
         null,
         "-2.5",
         "01.07.2023",
         "Store A"
        ],
        [
         "3",
         "4",
         "Apples",
         "Produce",
         "10.0",
         null,
         "02.07.2023",
         "Store A"
        ],
        [
         "4",
         "5",
         "Milk",
         "Dairy",
         "3.0",
         "1.5",
         null,
         "Store C"
        ]
       ],
       "shape": {
        "columns": 7,
        "rows": 5
       }
      },
      "text/html": [
       "<div>\n",
       "<style scoped>\n",
       "    .dataframe tbody tr th:only-of-type {\n",
       "        vertical-align: middle;\n",
       "    }\n",
       "\n",
       "    .dataframe tbody tr th {\n",
       "        vertical-align: top;\n",
       "    }\n",
       "\n",
       "    .dataframe thead th {\n",
       "        text-align: right;\n",
       "    }\n",
       "</style>\n",
       "<table border=\"1\" class=\"dataframe\">\n",
       "  <thead>\n",
       "    <tr style=\"text-align: right;\">\n",
       "      <th></th>\n",
       "      <th>ID</th>\n",
       "      <th>Product Name</th>\n",
       "      <th>Category</th>\n",
       "      <th>Quantity</th>\n",
       "      <th>Unit Price</th>\n",
       "      <th>Sale Date</th>\n",
       "      <th>Store</th>\n",
       "    </tr>\n",
       "  </thead>\n",
       "  <tbody>\n",
       "    <tr>\n",
       "      <th>0</th>\n",
       "      <td>1</td>\n",
       "      <td>Milk</td>\n",
       "      <td>Household</td>\n",
       "      <td>NaN</td>\n",
       "      <td>NaN</td>\n",
       "      <td>2023-07-13</td>\n",
       "      <td>Store B</td>\n",
       "    </tr>\n",
       "    <tr>\n",
       "      <th>1</th>\n",
       "      <td>2</td>\n",
       "      <td>Eggs</td>\n",
       "      <td>NaN</td>\n",
       "      <td>10.0</td>\n",
       "      <td>2.0</td>\n",
       "      <td>2023-07-10</td>\n",
       "      <td>Store A</td>\n",
       "    </tr>\n",
       "    <tr>\n",
       "      <th>2</th>\n",
       "      <td>3</td>\n",
       "      <td>NaN</td>\n",
       "      <td>Dairy</td>\n",
       "      <td>NaN</td>\n",
       "      <td>-2.5</td>\n",
       "      <td>01.07.2023</td>\n",
       "      <td>Store A</td>\n",
       "    </tr>\n",
       "    <tr>\n",
       "      <th>3</th>\n",
       "      <td>4</td>\n",
       "      <td>Apples</td>\n",
       "      <td>Produce</td>\n",
       "      <td>10.0</td>\n",
       "      <td>NaN</td>\n",
       "      <td>02.07.2023</td>\n",
       "      <td>Store A</td>\n",
       "    </tr>\n",
       "    <tr>\n",
       "      <th>4</th>\n",
       "      <td>5</td>\n",
       "      <td>Milk</td>\n",
       "      <td>Dairy</td>\n",
       "      <td>3.0</td>\n",
       "      <td>1.5</td>\n",
       "      <td>NaN</td>\n",
       "      <td>Store C</td>\n",
       "    </tr>\n",
       "  </tbody>\n",
       "</table>\n",
       "</div>"
      ],
      "text/plain": [
       "   ID Product Name   Category  Quantity  Unit Price   Sale Date    Store\n",
       "0   1         Milk  Household       NaN         NaN  2023-07-13  Store B\n",
       "1   2         Eggs        NaN      10.0         2.0  2023-07-10  Store A\n",
       "2   3          NaN      Dairy       NaN        -2.5  01.07.2023  Store A\n",
       "3   4       Apples    Produce      10.0         NaN  02.07.2023  Store A\n",
       "4   5         Milk      Dairy       3.0         1.5         NaN  Store C"
      ]
     },
     "execution_count": 5,
     "metadata": {},
     "output_type": "execute_result"
    }
   ],
   "source": [
    "import pandas as pd\n",
    "\n",
    "# Load the dataset\n",
    "file_path = \"store_sales_dirty_data.csv\"\n",
    "dirty_data = pd.read_csv(file_path)\n",
    "\n",
    "# Show the first few rows of the dataset to understand its structure\n",
    "dirty_data.head()\n"
   ]
  },
  {
   "cell_type": "code",
   "execution_count": 7,
   "id": "66ba6c8d",
   "metadata": {},
   "outputs": [
    {
     "data": {
      "application/vnd.microsoft.datawrangler.viewer.v0+json": {
       "columns": [
        {
         "name": "index",
         "rawType": "int64",
         "type": "integer"
        },
        {
         "name": "ID",
         "rawType": "int64",
         "type": "integer"
        },
        {
         "name": "Product Name",
         "rawType": "object",
         "type": "string"
        },
        {
         "name": "Category",
         "rawType": "object",
         "type": "string"
        },
        {
         "name": "Quantity",
         "rawType": "float64",
         "type": "float"
        },
        {
         "name": "Unit Price",
         "rawType": "float64",
         "type": "float"
        },
        {
         "name": "Sale Date",
         "rawType": "datetime64[ns]",
         "type": "datetime"
        },
        {
         "name": "Store",
         "rawType": "object",
         "type": "string"
        }
       ],
       "conversionMethod": "pd.DataFrame",
       "ref": "b19efa5e-ddce-47ae-be4d-c367f54e9fe8",
       "rows": [
        [
         "0",
         "1",
         "Milk",
         "Household",
         "0.0",
         null,
         "2023-07-13 00:00:00",
         "Store B"
        ],
        [
         "7",
         "8",
         "Cheese",
         "Household",
         "0.0",
         null,
         "2023-07-23 00:00:00",
         "Store C"
        ],
        [
         "10",
         "11",
         "Bread",
         "Household",
         "1.0",
         "3.75",
         "2023-07-08 00:00:00",
         "Store A"
        ],
        [
         "24",
         "25",
         "Bread",
         "Bakery",
         "0.0",
         "0.0",
         "2023-07-17 00:00:00",
         "Store A"
        ],
        [
         "29",
         "30",
         "Eggs",
         "Produce",
         "0.0",
         "2.0",
         "2023-07-15 00:00:00",
         "Store A"
        ]
       ],
       "shape": {
        "columns": 7,
        "rows": 5
       }
      },
      "text/html": [
       "<div>\n",
       "<style scoped>\n",
       "    .dataframe tbody tr th:only-of-type {\n",
       "        vertical-align: middle;\n",
       "    }\n",
       "\n",
       "    .dataframe tbody tr th {\n",
       "        vertical-align: top;\n",
       "    }\n",
       "\n",
       "    .dataframe thead th {\n",
       "        text-align: right;\n",
       "    }\n",
       "</style>\n",
       "<table border=\"1\" class=\"dataframe\">\n",
       "  <thead>\n",
       "    <tr style=\"text-align: right;\">\n",
       "      <th></th>\n",
       "      <th>ID</th>\n",
       "      <th>Product Name</th>\n",
       "      <th>Category</th>\n",
       "      <th>Quantity</th>\n",
       "      <th>Unit Price</th>\n",
       "      <th>Sale Date</th>\n",
       "      <th>Store</th>\n",
       "    </tr>\n",
       "  </thead>\n",
       "  <tbody>\n",
       "    <tr>\n",
       "      <th>0</th>\n",
       "      <td>1</td>\n",
       "      <td>Milk</td>\n",
       "      <td>Household</td>\n",
       "      <td>0.0</td>\n",
       "      <td>NaN</td>\n",
       "      <td>2023-07-13</td>\n",
       "      <td>Store B</td>\n",
       "    </tr>\n",
       "    <tr>\n",
       "      <th>7</th>\n",
       "      <td>8</td>\n",
       "      <td>Cheese</td>\n",
       "      <td>Household</td>\n",
       "      <td>0.0</td>\n",
       "      <td>NaN</td>\n",
       "      <td>2023-07-23</td>\n",
       "      <td>Store C</td>\n",
       "    </tr>\n",
       "    <tr>\n",
       "      <th>10</th>\n",
       "      <td>11</td>\n",
       "      <td>Bread</td>\n",
       "      <td>Household</td>\n",
       "      <td>1.0</td>\n",
       "      <td>3.75</td>\n",
       "      <td>2023-07-08</td>\n",
       "      <td>Store A</td>\n",
       "    </tr>\n",
       "    <tr>\n",
       "      <th>24</th>\n",
       "      <td>25</td>\n",
       "      <td>Bread</td>\n",
       "      <td>Bakery</td>\n",
       "      <td>0.0</td>\n",
       "      <td>0.00</td>\n",
       "      <td>2023-07-17</td>\n",
       "      <td>Store A</td>\n",
       "    </tr>\n",
       "    <tr>\n",
       "      <th>29</th>\n",
       "      <td>30</td>\n",
       "      <td>Eggs</td>\n",
       "      <td>Produce</td>\n",
       "      <td>0.0</td>\n",
       "      <td>2.00</td>\n",
       "      <td>2023-07-15</td>\n",
       "      <td>Store A</td>\n",
       "    </tr>\n",
       "  </tbody>\n",
       "</table>\n",
       "</div>"
      ],
      "text/plain": [
       "    ID Product Name   Category  Quantity  Unit Price  Sale Date    Store\n",
       "0    1         Milk  Household       0.0         NaN 2023-07-13  Store B\n",
       "7    8       Cheese  Household       0.0         NaN 2023-07-23  Store C\n",
       "10  11        Bread  Household       1.0        3.75 2023-07-08  Store A\n",
       "24  25        Bread     Bakery       0.0        0.00 2023-07-17  Store A\n",
       "29  30         Eggs    Produce       0.0        2.00 2023-07-15  Store A"
      ]
     },
     "execution_count": 7,
     "metadata": {},
     "output_type": "execute_result"
    }
   ],
   "source": [
    "# Крок 1: Перетворення дати на стандартний формат (дд-мм-рррр)\n",
    "dirty_data['Sale Date'] = pd.to_datetime(dirty_data['Sale Date'], errors='coerce')\n",
    "\n",
    "# Крок 2: Заміна негативних значень ціни на NaN\n",
    "dirty_data['Unit Price'] = dirty_data['Unit Price'].apply(lambda x: x if x >= 0 else None)\n",
    "\n",
    "# Крок 3: Заповнення пропущених значень у 'Quantity' нулями\n",
    "dirty_data['Quantity'] = dirty_data['Quantity'].fillna(0)\n",
    "\n",
    "# Крок 4: Видалення рядків з відсутніми критичними даними\n",
    "cleaned_data = dirty_data.dropna(subset=['Product Name', 'Category', 'Sale Date'])\n",
    "\n",
    "# Показати очищені дані\n",
    "cleaned_data.head()"
   ]
  },
  {
   "cell_type": "code",
   "execution_count": null,
   "id": "0631914d",
   "metadata": {},
   "outputs": [],
   "source": []
  }
 ],
 "metadata": {
  "kernelspec": {
   "display_name": "Python 3",
   "language": "python",
   "name": "python3"
  },
  "language_info": {
   "codemirror_mode": {
    "name": "ipython",
    "version": 3
   },
   "file_extension": ".py",
   "mimetype": "text/x-python",
   "name": "python",
   "nbconvert_exporter": "python",
   "pygments_lexer": "ipython3",
   "version": "3.9.13"
  }
 },
 "nbformat": 4,
 "nbformat_minor": 5
}
