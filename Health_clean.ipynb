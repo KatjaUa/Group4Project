{
 "cells": [
  {
   "cell_type": "code",
   "execution_count": null,
   "metadata": {},
   "outputs": [],
   "source": [
    "import pandas as pd\n",
    "\n",
    "\n",
    "file_path = 'Health_Sleep_Statistics.csv'\n",
    "df = pd.read_csv(file_path)\n",
    "\n",
    "# general info\n",
    "df.info()\n",
    "\n",
    "# top rows\n",
    "df.head()\n",
    "# last rows\n",
    "df.tail() "
   ]
  },
  {
   "cell_type": "code",
   "execution_count": 5,
   "metadata": {},
   "outputs": [
    {
     "data": {
      "text/plain": [
       "(100, 12)"
      ]
     },
     "execution_count": 5,
     "metadata": {},
     "output_type": "execute_result"
    }
   ],
   "source": [
    "df.columns\n",
    "df.shape\n"
   ]
  },
  {
   "cell_type": "code",
   "execution_count": null,
   "metadata": {},
   "outputs": [],
   "source": [
    "df.isnull().sum() # check for missing values\n"
   ]
  },
  {
   "cell_type": "code",
   "execution_count": 15,
   "metadata": {},
   "outputs": [],
   "source": [
    "# add new column \n",
    "df[\"Sleep Duration (hrs)\"] = 0\n",
    "\n"
   ]
  },
  {
   "cell_type": "code",
   "execution_count": null,
   "metadata": {},
   "outputs": [],
   "source": [
    "\n",
    "# in nwe column add data from dataset \n",
    "def sleep_hours(bed, wake):\n",
    "    bed_h = int(bed.split(\":\")[0])\n",
    "    wake_h = int(wake.split(\":\")[0])\n",
    "    \n",
    "    if wake_h < bed_h:\n",
    "        return (24 - bed_h) + wake_h\n",
    "    else:\n",
    "        return wake_h - bed_h\n",
    "\n",
    "# loop for each row\n",
    "for i in range(len(df)):\n",
    "    bed = df.loc[i, \"Bedtime\"]\n",
    "    wake = df.loc[i, \"Wake-up Time\"]\n",
    "    duration = sleep_hours(bed, wake)\n",
    "    df.loc[i, \"Sleep Duration (hrs)\"] = duration\n",
    "\n",
    "\n",
    "print(df[[\"Bedtime\", \"Wake-up Time\", \"Sleep Duration (hrs)\"]].head())\n"
   ]
  },
  {
   "cell_type": "code",
   "execution_count": null,
   "metadata": {},
   "outputs": [
    {
     "name": "stdout",
     "output_type": "stream",
     "text": [
      "Середня тривалість сну: 7.12 годин\n"
     ]
    }
   ],
   "source": [
    "# count avarage in new coloumn\n",
    "average_sleep = df[\"Sleep Duration (hrs)\"].mean()\n",
    "print(\"Середня тривалість сну:\", average_sleep, \"годин\")\n"
   ]
  },
  {
   "cell_type": "code",
   "execution_count": 22,
   "metadata": {},
   "outputs": [
    {
     "name": "stdout",
     "output_type": "stream",
     "text": [
      "Average age: 36.01\n",
      "Average sleep quality score: 7.0\n",
      "Average daily steps: 6830.0\n"
     ]
    }
   ],
   "source": [
    "#avarage amount in age/ quality of sleeping/avarage of steps\n",
    "print(\"Average age:\", df[\"Age\"].mean())\n",
    "print(\"Average sleep quality score:\", df[\"Sleep Quality\"].mean())\n",
    "print(\"Average daily steps:\", df[\"Daily Steps\"].mean())\n",
    "\n"
   ]
  },
  {
   "cell_type": "code",
   "execution_count": null,
   "metadata": {},
   "outputs": [],
   "source": [
    "# we can also add time text\n",
    "df[\"Sleep Quality Label\"] = \"ok\"  # початкове значення\n",
    "\n",
    "for i in range(len(df)):\n",
    "    if df.loc[i, \"Sleep Duration (hrs)\"] < 6:\n",
    "        df.loc[i, \"Sleep Quality Label\"] = \"small amount\"\n",
    "    elif df.loc[i, \"Sleep Duration (hrs)\"] > 9:\n",
    "        df.loc[i, \"Sleep Quality Label\"] = \"to much\"\n"
   ]
  },
  {
   "cell_type": "code",
   "execution_count": null,
   "metadata": {},
   "outputs": [],
   "source": [
    "# remove column\n",
    "df = df.drop(columns=['User ID'])\n",
    "print(df)\n"
   ]
  },
  {
   "cell_type": "code",
   "execution_count": 26,
   "metadata": {},
   "outputs": [
    {
     "name": "stdout",
     "output_type": "stream",
     "text": [
      "          Age  Sleep Quality  Daily Steps  Sleep Duration (hrs)\n",
      "Gender                                                         \n",
      "f       29.44           8.42       8940.0                  7.88\n",
      "m       42.58           5.58       4720.0                  6.36\n"
     ]
    }
   ],
   "source": [
    "# Group by Gender and calculate mean\n",
    "gender_grouped = df.groupby(\"Gender\")[[\"Age\", \"Sleep Quality\", \"Daily Steps\", \"Sleep Duration (hrs)\"]].mean()\n",
    "print(gender_grouped)\n"
   ]
  }
 ],
 "metadata": {
  "kernelspec": {
   "display_name": "Python 3",
   "language": "python",
   "name": "python3"
  },
  "language_info": {
   "codemirror_mode": {
    "name": "ipython",
    "version": 3
   },
   "file_extension": ".py",
   "mimetype": "text/x-python",
   "name": "python",
   "nbconvert_exporter": "python",
   "pygments_lexer": "ipython3",
   "version": "3.9.13"
  }
 },
 "nbformat": 4,
 "nbformat_minor": 2
}
